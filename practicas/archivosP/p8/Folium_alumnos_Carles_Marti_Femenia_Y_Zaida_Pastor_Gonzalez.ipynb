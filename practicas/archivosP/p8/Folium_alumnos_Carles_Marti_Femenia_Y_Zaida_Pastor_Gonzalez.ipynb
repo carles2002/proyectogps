{
 "cells": [
  {
   "cell_type": "markdown",
   "id": "225cbd2e",
   "metadata": {},
   "source": [
    "<h4 align = center> Dr. Jesús Martí Gavilá. Departamento de Ingeniería Cartográfica, Geodesia y fotogrametría </h4>\n",
    "<font color=\"blue\" ><h1 align=center>PRÁCTICA 8</h1> <p> <h1 align=center> CURSO BÁSICO PYTHON: FOLIUM</h1></font>\n",
    "\n",
    "<a href=\"http://www.upv.es/titulaciones/GTI/indexc.html\"><img src = \"http://www.upv.es/imagenes/marcaUPVN1.png\" width =200 ></a>\n",
    "\n",
    "<h2 align=center>Grado Tecnologías Interactivas | Tecnologías de la Información Geográfica</h2>\n",
    "\n"
   ]
  },
  {
   "cell_type": "markdown",
   "id": "25b6576d",
   "metadata": {},
   "source": [
    "<div class=\"alert alert-block alert-info\" style=\"margin-top: 20px\">\n",
    "<b>FOLIUM</b> es una biblioteca de visualización de Python que se desarrolló con el único fin de visualizar datos geoespaciales. Es una biblioteca completamente gratuita. <p>  \n",
    "<h2>Tabla de Contenido</h2>   \n",
    "    <ul>\n",
    "        <li>\n",
    "            <a>Acerca de los conjuntos de datos (DataFrame)</a>\n",
    "        </li>\n",
    "        <li>\n",
    "            <a>Mapa Puntual</a>\n",
    "        </li>\n",
    "        <li>\n",
    "            <a>Mapa de calor</a>\n",
    "        </li>\n",
    "        <li>\n",
    "            <a>Mapa de calor con función tiempo</a>\n",
    "        </li>\n",
    "        <li>\n",
    "            <a>Tareas a realizar</a>\n",
    "        </li>\n",
    "    </ul>\n",
    "<p>\n",
    "<b> Base de datos: </b> <a href=\"https://datos.madrid.es/portal/site/egob\"> https://datos.madrid.es/portal/site/egob </a>\n",
    "<p>\n",
    "<b> Documentación: </b> <a href=\"https://python-visualization.github.io/folium/\"> https://python-visualization.github.io/folium/</a><p>    \n",
    "\n",
    "</div>\n"
   ]
  },
  {
   "cell_type": "markdown",
   "id": "58a761dc",
   "metadata": {},
   "source": [
    "<H3> Alumnos: </H3> Tarea hecha por parejas, los dos hemos hecho la Tarea 1 y la Tarea 2, Somos: Carles Mart"
   ]
  },
  {
   "cell_type": "markdown",
   "id": "c694267c",
   "metadata": {},
   "source": [
    "<h1 align=center><font color=\"green\" >Estudio de la accidentalidad de la ciudad de Madrid mediante mapa de calor y puntual.</font></h1><p>\n",
    "    \n",
    "<h2>Caso de estudio</h2>\n",
    "Crear un mapa de calor y puntual de los accidentes originados por vehiculos y bicicletas en el año 2021"
   ]
  },
  {
   "cell_type": "code",
   "execution_count": null,
   "id": "b4375825",
   "metadata": {},
   "outputs": [],
   "source": [
    "# Librerias necesarias\n",
    "import openpyxl\n",
    "import pandas as pd\n",
    "import numpy as np\n",
    "import folium\n",
    "from folium import plugins\n",
    "import webbrowser\n",
    "from pyproj import Transformer"
   ]
  },
  {
   "cell_type": "code",
   "execution_count": null,
   "id": "462374b3",
   "metadata": {},
   "outputs": [],
   "source": [
    "# Base de datos\n",
    "base_datos= pd.read_excel('2021_Accidentalidad.xlsx')\n",
    "base_datos.head(5)"
   ]
  },
  {
   "cell_type": "markdown",
   "id": "3e14c949",
   "metadata": {},
   "source": [
    "# Preparación Base de datos"
   ]
  },
  {
   "cell_type": "code",
   "execution_count": null,
   "id": "f625752d",
   "metadata": {},
   "outputs": [],
   "source": [
    "print(base_datos.dtypes) # imprime el tipo de campo\n",
    "print(\"Numero de registros =\" , len( base_datos)) # imprime el tamaño de la base de datos"
   ]
  },
  {
   "cell_type": "code",
   "execution_count": null,
   "id": "8044bc4a",
   "metadata": {},
   "outputs": [],
   "source": [
    "# Elimina los registros en blanco en los campos de coordenadas\n",
    "accidentes_df = base_datos.dropna(subset=['coordenada_x_utm', 'coordenada_y_utm'])"
   ]
  },
  {
   "cell_type": "markdown",
   "id": "73173448",
   "metadata": {},
   "source": [
    "# Transformación de coordenadas"
   ]
  },
  {
   "cell_type": "markdown",
   "id": "02e35070",
   "metadata": {},
   "source": [
    "La geolocalización en el fichero de accidentes del ayuntamiento de Madrid se realiza con coordenadas UTM ETRS89 en el Huso 30. Para representar coordenadas en FOLIUM se necesitan coordenadas geográficas en el mismo sistema"
   ]
  },
  {
   "cell_type": "code",
   "execution_count": null,
   "id": "1d538775",
   "metadata": {},
   "outputs": [],
   "source": [
    "\n",
    "from pyproj import Transformer\n",
    "\n",
    "# Establecer los sistemas de transformación epsg:xxxx de entrada y epsg:yyyyy de salida\n",
    "transformacion = Transformer.from_crs('epsg:xxxxx','epsg:yyyyy',always_xy=True) \n",
    "puntos = list(zip(accidentes_df.coordenada_x_utm,accidentes_df.coordenada_y_utm)) # Crea una lista con todos los puntos\n",
    "\n",
    "coorgeo = np.array(list(transformacion.itransform(puntos)))\n",
    "accidentes_df.loc[:,'longitud'] = coorgeo[:,0]\n",
    "accidentes_df.loc[:,'latitud'] = coorgeo[:,1]\n",
    "\n",
    "accidentes_df.head()"
   ]
  },
  {
   "cell_type": "markdown",
   "id": "06b9a403",
   "metadata": {},
   "source": [
    "# Selección de registros base de datos"
   ]
  },
  {
   "cell_type": "code",
   "execution_count": null,
   "id": "51b9479a",
   "metadata": {},
   "outputs": [],
   "source": [
    "print(accidentes_df[\"tipo_persona\"].unique())"
   ]
  },
  {
   "cell_type": "code",
   "execution_count": null,
   "id": "7ae8b8e1",
   "metadata": {},
   "outputs": [],
   "source": [
    "# Crear una nueva Dataframe que cumple las condiciones establecidas\n",
    "acci_df=accidentes_df.loc[(accidentes_df['tipo_persona']=='Conductor')] \n",
    "                          \n",
    "# si quisieramos introduccir más condicionantes --- & (accidentes_df['tipo_vehiculo']=='Turismo')& (accidentes_df['rango_edad']=='De 18 a 20 años')]"
   ]
  },
  {
   "cell_type": "markdown",
   "id": "f9b8794e",
   "metadata": {},
   "source": [
    "<h2><font color=\"blue\" >Mapa Puntual (MarkerCluster)</font></h2><p>\n",
    "\n",
    "Los mapas puntuales permiten plasmar variables georeferenciadas, para un mejor entendimiento por parte del usuario de la distribucción de los mismas.<p>\n",
    "    \n",
    "<b> Diferentes plugins de Folium: </b> <a href=\"https://python-visualization.github.io/folium/plugins.html\"> https://python-visualization.github.io/folium/plugins.html </a>    \n",
    "<p>\n",
    "\n",
    "<b> Iconos con prefijo 'fa': </b> <a href=\"https://fontawesome.com/v5.15/icons?d=gallery&p=2&m=free\"> https://fontawesome.com/v5.15/icons?d=gallery&p=2&m=free</a>    "
   ]
  },
  {
   "cell_type": "code",
   "execution_count": null,
   "id": "37833ce7",
   "metadata": {},
   "outputs": [],
   "source": [
    "print(accidentes_df[\"tipo_vehiculo\"].unique())"
   ]
  },
  {
   "cell_type": "code",
   "execution_count": null,
   "id": "96c77908",
   "metadata": {},
   "outputs": [],
   "source": [
    "# Crear el mapa base donde representar\n",
    "mapa_accidentes = folium.Map(location=(40.43,-3.65), tiles = 'OpenStreetMap', zoom_start = 12)\n",
    "\n",
    "# Crear diferentes dataframes \n",
    "coche_df=acci_df.loc[(acci_df['tipo_vehiculo']=='Turismo')] \n",
    "bici_df=acci_df.loc[(acci_df['tipo_vehiculo']=='Bicicleta')]\n",
    "\n",
    "# crear un objeto de grupo de marcas para los incidentes en el DataFrame\n",
    "coches = plugins.MarkerCluster( name=\"Accidentes_coche\",).add_to(mapa_accidentes)\n",
    "bicis = plugins.MarkerCluster( name=\"Accidentes_bicis\",).add_to(mapa_accidentes)\n",
    "\n",
    "# procesar el DataFrame y agregar cada punto de datos al grupo de marcas creado anteriormente\n",
    "for lat, lng, label, in zip(coche_df.latitud, coche_df.longitud, coche_df['num_expediente']): #dos formas diferentes de llamar a un campo\n",
    "    folium.Marker(\n",
    "        location=[lat, lng],\n",
    "        icon=folium.Icon(color=\"orange\", icon=\"car\", prefix = 'fa'),\n",
    "        popup=label,\n",
    "        ).add_to(coches)\n",
    "\n",
    "for lat, lng, label, in zip(bici_df.latitud, bici_df.longitud, bici_df['num_expediente']): #dos formas diferentes de llamar a un campo\n",
    "    folium.Marker(\n",
    "        location=[lat, lng],\n",
    "        icon=folium.Icon(color=\"blue\", icon=\"bicycle\", prefix = 'fa'),\n",
    "        popup=label,\n",
    "        ).add_to(bicis)\n",
    "\n",
    "#Añadir controles\n",
    "folium.LayerControl().add_to(mapa_accidentes)\n",
    "draw = plugins.Draw(export=True)\n",
    "draw.add_to(mapa_accidentes)\n",
    "\n",
    "#Muestra mapa\n",
    "mapa_accidentes"
   ]
  },
  {
   "cell_type": "markdown",
   "id": "86cafef6",
   "metadata": {},
   "source": [
    " <h1 align=center><font color=\"green\" >Ubicación de contenedores vidrio y envases en Madrid. Mapa puntual.</font></h1><p> "
   ]
  },
  {
   "cell_type": "code",
   "execution_count": null,
   "id": "beab9950",
   "metadata": {},
   "outputs": [],
   "source": [
    "'''\n",
    "La base de datos es Contenedores_varios.csv, utilizamos ahora un fichero CSV\n",
    "Es opcional colocar el tipo de separador y la codificación. Por defecto es , y UTF-8 peró hay ficheros csv\n",
    "con formato sep=';', encoding = 'cp1252')\n",
    "'''\n",
    "contenedores_df = pd.read_csv('Contenedores_varios.csv', sep=';',low_memory = False)\n",
    "contenedores_df.head()"
   ]
  },
  {
   "cell_type": "code",
   "execution_count": null,
   "id": "4df81d34",
   "metadata": {},
   "outputs": [],
   "source": [
    "print(contenedores_df[\"Tipo Contenedor\"].unique())"
   ]
  },
  {
   "cell_type": "code",
   "execution_count": null,
   "id": "d6bce106",
   "metadata": {},
   "outputs": [],
   "source": [
    "vidrio_df=contenedores_df.loc[(contenedores_df['Tipo Contenedor']=='VIDRIO')] \n",
    "envases_df=contenedores_df.loc[(contenedores_df['Tipo Contenedor']=='ENVASES')] \n",
    "\n",
    "# mapa dual\n",
    "mapa_contenedores = folium.Map(location=(40.43,-3.65), tiles = 'OpenStreetMap', zoom_start = 12)\n",
    "\n",
    "# map tiles\n",
    "folium.TileLayer('OpenStreetMap').add_to(mapa_contenedores)\n",
    "\n",
    "vidrio = plugins.MarkerCluster( name=\"Contenedores Vidrio\").add_to(mapa_contenedores)\n",
    "envases = plugins.MarkerCluster( name = 'Contenedores envases').add_to(mapa_contenedores)\n",
    "\n",
    "for lat, lng, label in zip(vidrio_df.LATITUD, vidrio_df.LONGITUD, vidrio_df['Descripcion Modelo']):\n",
    "    folium.Marker(\n",
    "        location=[lat, lng],\n",
    "        icon=folium.Icon(color=\"green\", icon=\"info-sign\"),\n",
    "        popup=label,\n",
    "        ).add_to(vidrio)\n",
    "\n",
    "for lat, lng, label in zip(envases_df.LATITUD, envases_df.LONGITUD, envases_df['Descripcion Modelo']):\n",
    "    folium.Marker(\n",
    "        location=[lat, lng],\n",
    "        icon=folium.Icon(color=\"orange\", icon=\"info-sign\"),\n",
    "        popup=label,\n",
    "        ).add_to(envases)\n",
    "\n",
    "# Añadir control de mapas\n",
    "folium.LayerControl().add_to(mapa_contenedores)\n",
    "\n",
    "# Crear mapas\n",
    "mapa_contenedores.save(\"madrid_contenedores.html\")\n",
    "webbrowser.open_new_tab('madrid_contenedores.html')"
   ]
  },
  {
   "cell_type": "markdown",
   "id": "9624453b",
   "metadata": {},
   "source": [
    "<h2><font color=\"blue\" >Mapa de Calor (HeatMap)</font></h2><p>\n",
    "\n",
    "Los mapas de calor, o heatmaps, son un tipo de representación dentro de de la simbología de mapas que nos permite mostrar al usuario los puntos calientes o conjuntos de datos más relevantes dentro de una nube de puntos. Con una combinación de opciones de simbología y datos cuantitativos provenientes de base de datos georeferenciadas, obtendras mapas que reflejan concentraciones o distribuciones espaciales de variables no continuas en el espacio."
   ]
  },
  {
   "cell_type": "code",
   "execution_count": null,
   "id": "a9cb428a",
   "metadata": {},
   "outputs": [],
   "source": [
    "# Utilizaremos el pluging HeatMap\n",
    "# la lista de datos puede ser de 2 formas (Latitud, Longitud) o (Latitud, Longitud y Peso).\n",
    "\n",
    "mapa_calor = folium.Map(location=(40.43,-3.65), tiles = 'cartodb positron', zoom_start = 12)\n",
    "plugins.HeatMap(data=acci_df[['latitud', 'longitud']], radius=15, use_local_extrema=True, name=\"Mapa de calor\").add_to(mapa_calor)\n",
    "folium.LayerControl().add_to(mapa_calor)\n",
    "mapa_calor"
   ]
  },
  {
   "cell_type": "code",
   "execution_count": null,
   "id": "ad60c9c0",
   "metadata": {},
   "outputs": [],
   "source": [
    "# publicar el mapa\n",
    "mapa_calor.save(\"heatmap_acci.html\")\n",
    "webbrowser.open_new_tab('heatmap_acci.html') #Abre el HTML en una ventana del navegador"
   ]
  },
  {
   "cell_type": "markdown",
   "id": "5275c961",
   "metadata": {},
   "source": [
    " <h2><font color=\"blue\" >Mapa de calor con evolución en el tiempo (HeatMapWithTime) </font></h2><p>\n",
    "Este plugin nos permite generar mapas de calor de diferentes periodos de tiempo especificados y representarlos mediante automatizacion con un play que nos permite represesentar la evolución del fenómeno"
   ]
  },
  {
   "cell_type": "code",
   "execution_count": null,
   "id": "251d37fd",
   "metadata": {},
   "outputs": [],
   "source": [
    "# Crear una nueva Dataframe que cumpla unas determinadas condiciones\n",
    "acci_df=accidentes_df.loc[(accidentes_df['tipo_persona']=='Conductor') & (accidentes_df['tipo_vehiculo']=='Turismo')]"
   ]
  },
  {
   "cell_type": "code",
   "execution_count": null,
   "id": "cbdcb14d",
   "metadata": {},
   "outputs": [],
   "source": [
    "# Crear un campo en el Dataframe con el valor del mes extraido de la fecha\n",
    "import datetime\n",
    "mes = pd.DatetimeIndex(acci_df['fecha']).month \n",
    "acci_df = acci_df.assign(mes = mes)  "
   ]
  },
  {
   "cell_type": "code",
   "execution_count": null,
   "id": "abbfd212",
   "metadata": {},
   "outputs": [],
   "source": [
    "# Generar lista para el slider del visualizador\n",
    "lista_tiempo = ['Enero','Febrero','Marzo','Abril','Mayo', 'Junio', 'Julio', 'Agosto', 'Septiembre', 'Octubre', 'Noviembre','Diciembre']"
   ]
  },
  {
   "cell_type": "code",
   "execution_count": null,
   "id": "5bb9e8b4",
   "metadata": {},
   "outputs": [],
   "source": [
    "lista_peso = [] # Crear una lista vacia\n",
    "acci_df = acci_df.assign(peso = 1)  # crear un campo nuevo con valor por defecto 1\n",
    "\n",
    "# Rellenar la lista con los campos (Latitud, Longitud y Peso) necesarios para HeatMap\n",
    "for x in acci_df['mes'].sort_values().unique():\n",
    "   lista_peso.append(acci_df.loc[acci_df['mes']==x,   # Agrupar los valores con latitud y longitud igual \n",
    "                  ['latitud','longitud','peso']].groupby(['latitud','longitud']) \n",
    "                  .sum().reset_index().values.tolist())"
   ]
  },
  {
   "cell_type": "code",
   "execution_count": null,
   "id": "b0e0508c",
   "metadata": {},
   "outputs": [],
   "source": [
    "print(lista_peso     )"
   ]
  },
  {
   "cell_type": "code",
   "execution_count": null,
   "id": "fd91311d",
   "metadata": {},
   "outputs": [],
   "source": [
    "# Generar el mapa\n",
    "madrid_map = folium.Map(location=(40.43,-3.65), control_scale = True, tiles = \"cartodb positron\", zoom_start = 12)\n",
    "\n",
    "# Ejecutar el pluging HeatMapWithTime\n",
    "plugins.HeatMapWithTime(lista_peso, radius = 30, index = lista_tiempo,\n",
    "                        auto_play = False, min_opacity = 0.5, max_opacity = 1, use_local_extrema=True, name=\"Accidentes_coche_2020\").add_to(madrid_map)\n",
    "\n",
    "# publica el mapa\n",
    "folium.LayerControl().add_to(madrid_map)\n",
    "madrid_map.save(\"madrid_acci.html\")\n",
    "webbrowser.open_new_tab('madrid_acci.html')"
   ]
  },
  {
   "cell_type": "markdown",
   "id": "4396130e",
   "metadata": {},
   "source": [
    "<h2><font color=\"blue\" >Mapa Puntual </font></h2><p>\n",
    " Este plugin nos permite en una misma ventana Html tener 2 mapas\n",
    " <p>\n",
    "\n",
    " <h1 align=center><font color=\"green\" >Ubicación de contenedores vidrio y envases en Madrid.Mapa puntual </font></h1><p>   "
   ]
  },
  {
   "cell_type": "code",
   "execution_count": null,
   "id": "dfb1cc0d",
   "metadata": {},
   "outputs": [],
   "source": [
    "'''\n",
    "La base de datos es Contenedores_varios.csv, utilizamos ahora un fichero CSV\n",
    "Es opcional colocar el tipo de separador y la codificación. Por defecto es , y UTF-8 peró hay ficheros csv\n",
    "con formato sep=';', encoding = 'cp1252')\n",
    "'''\n",
    "contenedores_df = pd.read_csv('Contenedores_varios.csv', sep=';',low_memory = False)\n",
    "contenedores_df.head()"
   ]
  },
  {
   "cell_type": "code",
   "execution_count": null,
   "id": "3898221f",
   "metadata": {},
   "outputs": [],
   "source": [
    "print(contenedores_df[\"Tipo Contenedor\"].unique())"
   ]
  },
  {
   "cell_type": "code",
   "execution_count": null,
   "id": "ee324741",
   "metadata": {},
   "outputs": [],
   "source": [
    "vidrio_df=contenedores_df.loc[(contenedores_df['Tipo Contenedor']=='VIDRIO')] \n",
    "envases_df=contenedores_df.loc[(contenedores_df['Tipo Contenedor']=='ENVASES')] \n",
    "\n",
    "# mapa dual\n",
    "mapa_dual = plugins.DualMap(location=[40.4, -3.65], tiles=None, zoom_start=20)\n",
    "\n",
    "# map tiles\n",
    "folium.TileLayer('OpenStreetMap').add_to(mapa_dual.m1)\n",
    "folium.TileLayer('CartoDB Positron').add_to(mapa_dual.m2)\n",
    "vidrio = plugins.MarkerCluster( name=\"Contenedores Vidrio\").add_to(mapa_dual.m1)\n",
    "envases = plugins.MarkerCluster( name = 'Contenedores envases').add_to(mapa_dual.m2)\n",
    "\n",
    "for lat, lng, label in zip(vidrio_df.LATITUD, vidrio_df.LONGITUD, vidrio_df['Descripcion Modelo']):\n",
    "    folium.Marker(\n",
    "        location=[lat, lng],\n",
    "        icon=folium.Icon(color=\"green\", icon=\"info-sign\"),\n",
    "        popup=label,\n",
    "        ).add_to(vidrio)\n",
    "\n",
    "for lat, lng, label in zip(envases_df.LATITUD, envases_df.LONGITUD, envases_df['Descripcion Modelo']):\n",
    "    folium.Marker(\n",
    "        location=[lat, lng],\n",
    "        icon=folium.Icon(color=\"orange\", icon=\"info-sign\"),\n",
    "        popup=label,\n",
    "        ).add_to(envases)\n",
    "\n",
    "# Añadir control de mapas\n",
    "folium.LayerControl().add_to(mapa_dual)\n",
    "\n",
    "# Crear mapas\n",
    "mapa_dual.save(\"madrid_dual.html\")\n",
    "webbrowser.open_new_tab('madrid_dual.html')"
   ]
  },
  {
   "cell_type": "markdown",
   "id": "9d965b09",
   "metadata": {},
   "source": [
    "<h2><font color=\"red\" >TAREA 1</font></h2><p>\n",
    "<h3> Realizar una webMapping de residuos de la ciudad de Madrid.</h3> <p>\n",
    "Crear capas diferenciadas de mapa de calor de los residuos (vidrio, envases) y un mapa único con la ubicación de los contenedores diferenciados por el tipo de contenedor (vidrio, envases, papel, organico).<P>\n",
    "    <h4>Guardar como: contenedores_\"apellido alumno\".html</h4>"
   ]
  },
  {
   "cell_type": "code",
   "execution_count": null,
   "id": "ab4b57f6",
   "metadata": {},
   "outputs": [],
   "source": [
    "# Librerias necesarias\n",
    "import openpyxl\n",
    "import pandas as pd\n",
    "import numpy as np\n",
    "import folium\n",
    "from folium import plugins\n",
    "import webbrowser\n",
    "from pyproj import Transformer"
   ]
  },
  {
   "cell_type": "code",
   "execution_count": null,
   "id": "aaa7e59b",
   "metadata": {},
   "outputs": [],
   "source": [
    "# Abrir la base de datos Contenedores_varios.csv\n",
    "# Base de datos\n",
    "contenedores_df = pd.read_csv('Contenedores_varios.csv', sep=';',low_memory = False)\n",
    "contenedores_df.head()\n",
    "print(contenedores_df[\"Tipo Contenedor\"].unique())"
   ]
  },
  {
   "cell_type": "code",
   "execution_count": null,
   "id": "27885d04",
   "metadata": {},
   "outputs": [],
   "source": [
    "# Crear diferentes dataframes para los residuos indicados\n",
    "vidrio_df=contenedores_df.loc[(contenedores_df['Tipo Contenedor']=='VIDRIO')] \n",
    "envases_df=contenedores_df.loc[(contenedores_df['Tipo Contenedor']=='ENVASES')] \n",
    "papel_df=contenedores_df.loc[(contenedores_df['Tipo Contenedor']=='PAPEL-CARTON')] \n",
    "organico_df=contenedores_df.loc[(contenedores_df['Tipo Contenedor']=='ORGANICA')] \n",
    "\n",
    "# mapa puntual\n",
    "mapa_contenedores = folium.Map(location=(40.43,-3.65), tiles = 'OpenStreetMap', zoom_start = 12)\n",
    "\n",
    "# map tiles\n",
    "folium.TileLayer('OpenStreetMap').add_to(mapa_contenedores)\n",
    "\n",
    "vidrio = plugins.MarkerCluster( name=\"Contenedores Vidrio\").add_to(mapa_contenedores)\n",
    "envases = plugins.MarkerCluster( name = 'Contenedores envases').add_to(mapa_contenedores)\n",
    "papel = plugins.MarkerCluster( name=\"Contenedores papel\").add_to(mapa_contenedores)\n",
    "organico = plugins.MarkerCluster( name = 'Contenedores organico').add_to(mapa_contenedores)\n",
    "\n",
    "for lat, lng, label in zip(vidrio_df.LATITUD, vidrio_df.LONGITUD, vidrio_df['Descripcion Modelo']):\n",
    "    folium.Marker(\n",
    "        location=[lat, lng],\n",
    "        icon=folium.Icon(color=\"green\", icon=\"info-sign\"),\n",
    "        popup=label,\n",
    "        ).add_to(vidrio)\n",
    "\n",
    "for lat, lng, label in zip(envases_df.LATITUD, envases_df.LONGITUD, envases_df['Descripcion Modelo']):\n",
    "    folium.Marker(\n",
    "        location=[lat, lng],\n",
    "        icon=folium.Icon(color=\"orange\", icon=\"info-sign\"),\n",
    "        popup=label,\n",
    "        ).add_to(envases)\n",
    "for lat, lng, label in zip(papel_df.LATITUD, papel_df.LONGITUD, papel_df['Descripcion Modelo']):\n",
    "    folium.Marker(\n",
    "        location=[lat, lng],\n",
    "        icon=folium.Icon(color=\"blue\", icon=\"info-sign\"),\n",
    "        popup=label,\n",
    "        ).add_to(papel)\n",
    "\n",
    "for lat, lng, label in zip(organico_df.LATITUD, organico_df.LONGITUD, organico_df['Descripcion Modelo']):\n",
    "    folium.Marker(\n",
    "        location=[lat, lng],\n",
    "        icon=folium.Icon(color=\"grey\", icon=\"info-sign\"),\n",
    "        popup=label,\n",
    "        ).add_to(organico)\n",
    "\n",
    "    \n",
    "plugins.HeatMap(data=vidrio_df[['LATITUD', 'LONGITUD']], radius=15, use_local_extrema=True, name=\"Mapa de calor Vidrio\").add_to(mapa_contenedores)\n",
    "plugins.HeatMap(data=envases_df[['LATITUD', 'LONGITUD']], radius=15, use_local_extrema=True, name=\"Mapa de calor Envases\").add_to(mapa_contenedores)\n",
    "\n",
    "\n",
    "\n",
    "# Añadir control de mapas\n",
    "folium.LayerControl().add_to(mapa_contenedores)\n",
    "mapa_contenedores.save(\"Contenedores_Marti_Femenia_Y_Pastor_Gonzalez.html\")\n",
    "webbrowser.open_new_tab('Contenedores_Marti_Femenia_Y_Pastor_Gonzalez.html')\n"
   ]
  },
  {
   "cell_type": "code",
   "execution_count": null,
   "id": "92769fdb",
   "metadata": {
    "scrolled": true
   },
   "outputs": [],
   "source": []
  },
  {
   "cell_type": "markdown",
   "id": "0db26b18",
   "metadata": {},
   "source": [
    "<h2><font color=\"red\" >TAREA 2</font></h2><p>\n",
    "<h3> Realizar webmapping con mapas de calor de accidentes en 2022</h3><p>\n",
    "Realizar varios mapas de calor de accidentes producidos en la ciudad de Madrid, a lo largo del 2022 y distribuido por meses, que se han visto involucrados conductores diferenciados por sexo (Elegir: Hombre o Mujer) y con vehiculos distintos al turismo."
   ]
  },
  {
   "cell_type": "code",
   "execution_count": null,
   "id": "2f15862b",
   "metadata": {},
   "outputs": [],
   "source": [
    "# Cargar y limpiar tabla de blancos\n",
    "# Base de datos\n",
    "base_datos= pd.read_excel('2022_Accidentalidad.xlsx')\n",
    "base_datos.head(5)\n",
    "\n",
    "print(base_datos.dtypes) # imprime el tipo de campo\n",
    "print(\"Numero de registros =\" , len( base_datos)) # imprime el tamaño de la base de datos\n",
    "# Elimina los registros en blanco en los campos de coordenadas\n",
    "accidentes_df = base_datos.dropna(subset=['coordenada_x_utm', 'coordenada_y_utm'])"
   ]
  },
  {
   "cell_type": "code",
   "execution_count": null,
   "id": "a6dcb4a2",
   "metadata": {},
   "outputs": [],
   "source": [
    "# Transformar coordenadas\n",
    "from pyproj import Transformer\n",
    "\n",
    "# Establecer los sistemas de transformación epsg:xxxx de entrada y epsg:yyyyy de salida\n",
    "transformacion = Transformer.from_crs('epsg:25830','epsg:4258',always_xy=True) \n",
    "puntos = list(zip(accidentes_df.coordenada_x_utm,accidentes_df.coordenada_y_utm)) # Crea una lista con todos los puntos\n",
    "\n",
    "coorgeo = np.array(list(transformacion.itransform(puntos)))\n",
    "accidentes_df.loc[:,'longitud'] = coorgeo[:,0]\n",
    "accidentes_df.loc[:,'latitud'] = coorgeo[:,1]\n",
    "\n",
    "accidentes_df.head()"
   ]
  },
  {
   "cell_type": "code",
   "execution_count": null,
   "id": "2be6c573",
   "metadata": {},
   "outputs": [],
   "source": [
    "# Crear una nueva Dataframe que cumpla unas determinadas condiciones\n",
    "print(accidentes_df[\"tipo_persona\"].unique())\n",
    "# Crear una nueva Dataframe que cumple las condiciones establecidas\n",
    "acci_df=accidentes_df.loc[(accidentes_df['sexo']=='Hombre')&(accidentes_df['tipo_vehiculo']!='Turismo')] "
   ]
  },
  {
   "cell_type": "code",
   "execution_count": null,
   "id": "b35024cb",
   "metadata": {},
   "outputs": [],
   "source": [
    "\n",
    "# Crear un campo en el Dataframe con el valor del mes extraido de la fecha\n",
    "import datetime\n",
    "mes = pd.DatetimeIndex(acci_df['fecha']).month \n",
    "acci_df = acci_df.assign(mes = mes)  "
   ]
  },
  {
   "cell_type": "code",
   "execution_count": null,
   "id": "d4d0d86f",
   "metadata": {},
   "outputs": [],
   "source": [
    "# lista para el slider del visualizador\n",
    "lista_tiempo = ['Enero','Febrero','Marzo','Abril','Mayo', 'Junio', 'Julio', 'Agosto', 'Septiembre', 'Octubre', 'Noviembre','Diciembre']"
   ]
  },
  {
   "cell_type": "code",
   "execution_count": null,
   "id": "30b4d7f6",
   "metadata": {},
   "outputs": [],
   "source": [
    "# Crear una lista vacia\n",
    "lista_peso = [] # Crear una lista vacia\n",
    "acci_df = acci_df.assign(peso = 1)  # crear un campo nuevo con valor por defecto 1\n",
    "\n",
    "# Rellenar la lista con los campos (Latitud, Longitud y Peso) necesarios para HeatMap\n",
    "for x in acci_df['mes'].sort_values().unique():\n",
    "   lista_peso.append(acci_df.loc[acci_df['mes']==x,   # Agrupar los valores con latitud y longitud igual \n",
    "                  ['latitud','longitud','peso']].groupby(['latitud','longitud']) \n",
    "                  .sum().reset_index().values.tolist())\n",
    "# crear un campo nuevo con valor por defecto 1\n",
    "\n",
    "# Rellenar la lista con los campos (Latitud, Longitud y Peso) necesarios para HeatMap\n"
   ]
  },
  {
   "cell_type": "code",
   "execution_count": null,
   "id": "e0ed6cfe",
   "metadata": {},
   "outputs": [],
   "source": [
    "# Generar el mapa\n",
    "\n",
    "# Ejecutar el pluging HeatMapWithTime\n",
    "\n",
    "# publica el mapa. Accidentes_Madrid_\"apellido alumno\".html\n",
    "# Generar el mapa\n",
    "madrid_map = folium.Map(location=(40.43,-3.65), control_scale = True, tiles = \"cartodb positron\", zoom_start = 12)\n",
    "\n",
    "# Ejecutar el pluging HeatMapWithTime\n",
    "plugins.HeatMapWithTime(lista_peso, radius = 30, index = lista_tiempo,\n",
    "                        auto_play = False, min_opacity = 0.5, max_opacity = 1, use_local_extrema=True, name=\"Accidentes_coche_2020\").add_to(madrid_map)\n",
    "\n",
    "# publica el mapa\n",
    "folium.LayerControl().add_to(madrid_map)\n",
    "madrid_map.save(\"Madrid_Marti_Femenia_Y_Pastor_Gonzalez.html\")\n",
    "webbrowser.open_new_tab('Madrid_Marti_Femenia_Y_Pastor_Gonzalez.html')\n"
   ]
  }
 ],
 "metadata": {
  "kernelspec": {
   "display_name": "Python 3 (ipykernel)",
   "language": "python",
   "name": "python3"
  },
  "language_info": {
   "codemirror_mode": {
    "name": "ipython",
    "version": 3
   },
   "file_extension": ".py",
   "mimetype": "text/x-python",
   "name": "python",
   "nbconvert_exporter": "python",
   "pygments_lexer": "ipython3",
   "version": "3.10.13"
  }
 },
 "nbformat": 4,
 "nbformat_minor": 5
}
